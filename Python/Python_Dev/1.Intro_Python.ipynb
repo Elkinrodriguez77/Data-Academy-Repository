{
 "cells": [
  {
   "cell_type": "markdown",
   "id": "697dea57",
   "metadata": {},
   "source": [
    "# Python For Dev"
   ]
  },
  {
   "cell_type": "markdown",
   "id": "c990b6b4",
   "metadata": {},
   "source": [
    "Curso de Python para quienes nunca lo han usado antes."
   ]
  },
  {
   "cell_type": "markdown",
   "id": "d4dfb785",
   "metadata": {},
   "source": [
    "## Lenguaje multipropósito\n",
    "\n",
    "- Web\n",
    "- Data\n",
    "- AI"
   ]
  },
  {
   "cell_type": "markdown",
   "id": "55979db8",
   "metadata": {},
   "source": [
    "Hagamos una primera aproximación a Python:"
   ]
  },
  {
   "cell_type": "code",
   "execution_count": null,
   "id": "c2b9e013",
   "metadata": {},
   "outputs": [],
   "source": []
  },
  {
   "cell_type": "markdown",
   "id": "2442f05b",
   "metadata": {},
   "source": [
    "# ➡️ Sintaxis de Python"
   ]
  },
  {
   "cell_type": "markdown",
   "id": "f37e2376",
   "metadata": {},
   "source": [
    "Opeeraciones matematicas en Python:"
   ]
  },
  {
   "cell_type": "code",
   "execution_count": null,
   "id": "e6e48bbf",
   "metadata": {},
   "outputs": [],
   "source": []
  },
  {
   "cell_type": "markdown",
   "id": "4b40f79c",
   "metadata": {},
   "source": [
    "Cadenas en Python:"
   ]
  },
  {
   "cell_type": "code",
   "execution_count": null,
   "id": "e479d3aa",
   "metadata": {},
   "outputs": [],
   "source": []
  },
  {
   "cell_type": "markdown",
   "id": "5acc1432",
   "metadata": {},
   "source": [
    "## Tipos de datos en Python:"
   ]
  },
  {
   "cell_type": "markdown",
   "id": "f677c9f6",
   "metadata": {},
   "source": [
    "Tipos de datos y variables:"
   ]
  },
  {
   "cell_type": "code",
   "execution_count": null,
   "id": "669936c7",
   "metadata": {},
   "outputs": [],
   "source": []
  },
  {
   "cell_type": "code",
   "execution_count": null,
   "id": "8164c1de",
   "metadata": {},
   "outputs": [],
   "source": []
  },
  {
   "cell_type": "markdown",
   "id": "3751faab",
   "metadata": {},
   "source": [
    "# Inputs en Python:"
   ]
  },
  {
   "cell_type": "code",
   "execution_count": null,
   "id": "f6096430",
   "metadata": {},
   "outputs": [],
   "source": []
  },
  {
   "cell_type": "markdown",
   "id": "2eebe4d8",
   "metadata": {},
   "source": [
    "## Trabajando con Strings"
   ]
  },
  {
   "cell_type": "code",
   "execution_count": null,
   "id": "00212dd3",
   "metadata": {},
   "outputs": [],
   "source": []
  },
  {
   "cell_type": "markdown",
   "id": "8446a75e",
   "metadata": {},
   "source": [
    "Texto multilinea:"
   ]
  },
  {
   "cell_type": "code",
   "execution_count": null,
   "id": "79182739",
   "metadata": {},
   "outputs": [],
   "source": []
  },
  {
   "cell_type": "markdown",
   "id": "1a516086",
   "metadata": {},
   "source": [
    "Documentación: https://docs.python.org/3/library/functions.html"
   ]
  }
 ],
 "metadata": {
  "kernelspec": {
   "display_name": "data_academy",
   "language": "python",
   "name": "python3"
  },
  "language_info": {
   "codemirror_mode": {
    "name": "ipython",
    "version": 3
   },
   "file_extension": ".py",
   "mimetype": "text/x-python",
   "name": "python",
   "nbconvert_exporter": "python",
   "pygments_lexer": "ipython3",
   "version": "3.9.13"
  }
 },
 "nbformat": 4,
 "nbformat_minor": 5
}
