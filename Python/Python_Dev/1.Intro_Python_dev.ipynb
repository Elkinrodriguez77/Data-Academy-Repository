{
 "cells": [
  {
   "cell_type": "markdown",
   "id": "697dea57",
   "metadata": {},
   "source": [
    "# Python For Dev"
   ]
  },
  {
   "cell_type": "markdown",
   "id": "c990b6b4",
   "metadata": {},
   "source": [
    "Curso de Python para quienes nunca lo han usado antes."
   ]
  },
  {
   "cell_type": "markdown",
   "id": "d4dfb785",
   "metadata": {},
   "source": [
    "## Lenguaje multipropósito\n",
    "\n",
    "- Web\n",
    "- Data\n",
    "- AI"
   ]
  },
  {
   "cell_type": "markdown",
   "id": "55979db8",
   "metadata": {},
   "source": [
    "Hagamos una primera aproximación a Python:"
   ]
  },
  {
   "cell_type": "code",
   "execution_count": 2,
   "id": "c2b9e013",
   "metadata": {},
   "outputs": [
    {
     "name": "stdout",
     "output_type": "stream",
     "text": [
      "Amo Python\n"
     ]
    }
   ],
   "source": [
    "print(\"Amo Python\")"
   ]
  },
  {
   "cell_type": "markdown",
   "id": "2442f05b",
   "metadata": {},
   "source": [
    "# ➡️ Sintaxis de Python"
   ]
  },
  {
   "cell_type": "markdown",
   "id": "f37e2376",
   "metadata": {},
   "source": [
    "Opeeraciones matematicas en Python:"
   ]
  },
  {
   "cell_type": "code",
   "execution_count": 4,
   "id": "e6e48bbf",
   "metadata": {},
   "outputs": [
    {
     "name": "stdout",
     "output_type": "stream",
     "text": [
      "6\n",
      "2.0\n",
      "8\n",
      "-2\n"
     ]
    }
   ],
   "source": [
    "# Suma\n",
    "print(2+4)\n",
    "# División\n",
    "print(4/2)\n",
    "# Multiplicación\n",
    "print(2*4)\n",
    "# Resta\n",
    "print(2-4)"
   ]
  },
  {
   "cell_type": "markdown",
   "id": "4b40f79c",
   "metadata": {},
   "source": [
    "Cadenas en Python:"
   ]
  },
  {
   "cell_type": "code",
   "execution_count": 5,
   "id": "e479d3aa",
   "metadata": {},
   "outputs": [
    {
     "name": "stdout",
     "output_type": "stream",
     "text": [
      "Esto es una suma: 6\n"
     ]
    }
   ],
   "source": [
    "print(f\"Esto es una suma: {2+4}\")\n",
    "# Concatenación de cadenas "
   ]
  },
  {
   "cell_type": "markdown",
   "id": "5acc1432",
   "metadata": {},
   "source": [
    "## Tipos de datos en Python:"
   ]
  },
  {
   "cell_type": "markdown",
   "id": "f677c9f6",
   "metadata": {},
   "source": [
    "Tipos de datos y variables:"
   ]
  },
  {
   "cell_type": "code",
   "execution_count": 16,
   "id": "669936c7",
   "metadata": {},
   "outputs": [
    {
     "name": "stdout",
     "output_type": "stream",
     "text": [
      "el tipo de datos de 7 es <class 'int'>\n",
      "el tipo de datos de hola es <class 'str'>\n",
      "el tipo de datos de True es <class 'bool'>\n",
      "el tipo de datos de 7 es <class 'str'>\n"
     ]
    }
   ],
   "source": [
    "numero = 7\n",
    "texto = \"hola\"\n",
    "booleano = True\n",
    "numero_texto = str(7)\n",
    "\n",
    "print(f\"el tipo de datos de {numero} es {type(numero)}\")\n",
    "print(f\"el tipo de datos de {texto} es {type(texto)}\")\n",
    "print(f\"el tipo de datos de {booleano} es {type(booleano)}\")\n",
    "print(f\"el tipo de datos de {numero_texto} es {type(numero_texto)}\")"
   ]
  },
  {
   "cell_type": "code",
   "execution_count": 10,
   "id": "8164c1de",
   "metadata": {},
   "outputs": [
    {
     "name": "stdout",
     "output_type": "stream",
     "text": [
      "el tipo de datos de [1, 2, 3, 4, 5] es <class 'list'>\n",
      "el tipo de datos de (1, 2, 3, 4, 5) es <class 'tuple'>\n",
      "el tipo de datos de {'uno': 1, 'dos': 2, 'tres': 3} es <class 'dict'>\n"
     ]
    }
   ],
   "source": [
    "lista = [1, 2, 3, 4, 5]\n",
    "tupla = (1, 2, 3, 4, 5)\n",
    "diccionario = {\"uno\": 1, \"dos\": 2, \"tres\": 3}\n",
    "\n",
    "print(f\"el tipo de datos de {lista} es {type(lista)}\")\n",
    "print(f\"el tipo de datos de {tupla} es {type(tupla)}\") \n",
    "print(f\"el tipo de datos de {diccionario} es {type(diccionario)}\")"
   ]
  },
  {
   "cell_type": "markdown",
   "id": "3751faab",
   "metadata": {},
   "source": [
    "# Inputs en Python:"
   ]
  },
  {
   "cell_type": "code",
   "execution_count": 14,
   "id": "f6096430",
   "metadata": {},
   "outputs": [
    {
     "name": "stdout",
     "output_type": "stream",
     "text": [
      "El valor 1 es: 7 y el valor 2 es: 8\n",
      "La suma del 7 y 8 es: 15\n"
     ]
    }
   ],
   "source": [
    "valor1 = int(input(\"Introduce un valor: \")) # probar sin tipo de dato para mostrar que concatena:input(\"Introduce un valor: \")\n",
    "valor2 = int(input(\"Introduce otro valor: \"))\n",
    "print(f\"El valor 1 es: {valor1} y el valor 2 es: {valor2}\")\n",
    "print(f\"La suma del {valor1} y {valor2} es: {valor1 + valor2}\")"
   ]
  },
  {
   "cell_type": "markdown",
   "id": "2eebe4d8",
   "metadata": {},
   "source": [
    "## Trabajando con Strings"
   ]
  },
  {
   "cell_type": "code",
   "execution_count": 32,
   "id": "00212dd3",
   "metadata": {},
   "outputs": [
    {
     "name": "stdout",
     "output_type": "stream",
     "text": [
      "['__add__', '__class__', '__contains__', '__delattr__', '__dir__', '__doc__', '__eq__', '__format__', '__ge__', '__getattribute__', '__getitem__', '__getnewargs__', '__gt__', '__hash__', '__init__', '__init_subclass__', '__iter__', '__le__', '__len__', '__lt__', '__mod__', '__mul__', '__ne__', '__new__', '__reduce__', '__reduce_ex__', '__repr__', '__rmod__', '__rmul__', '__setattr__', '__sizeof__', '__str__', '__subclasshook__', 'capitalize', 'casefold', 'center', 'count', 'encode', 'endswith', 'expandtabs', 'find', 'format', 'format_map', 'index', 'isalnum', 'isalpha', 'isascii', 'isdecimal', 'isdigit', 'isidentifier', 'islower', 'isnumeric', 'isprintable', 'isspace', 'istitle', 'isupper', 'join', 'ljust', 'lower', 'lstrip', 'maketrans', 'partition', 'removeprefix', 'removesuffix', 'replace', 'rfind', 'rindex', 'rjust', 'rpartition', 'rsplit', 'rstrip', 'split', 'splitlines', 'startswith', 'strip', 'swapcase', 'title', 'translate', 'upper', 'zfill']\n",
      "11\n",
      "HOLA PYTHON\n",
      "True\n",
      "Hola python mundo\n",
      "Adios python\n"
     ]
    }
   ],
   "source": [
    "texto = \"Hola python\"\n",
    "print(dir(texto))  # dir siempre dirá metodos disponibles de acuerdo al tipo de dato, si se usa un df puede que los metodos cambien.\n",
    "print(len(texto))\n",
    "print(texto.upper())\n",
    "print(texto.__contains__('a'))\n",
    "print(texto.__add__(' mundo'))\n",
    "print(texto.replace('Hola', 'Adios'))"
   ]
  },
  {
   "cell_type": "markdown",
   "id": "8446a75e",
   "metadata": {},
   "source": [
    "Texto multilinea:"
   ]
  },
  {
   "cell_type": "code",
   "execution_count": 34,
   "id": "79182739",
   "metadata": {},
   "outputs": [
    {
     "name": "stdout",
     "output_type": "stream",
     "text": [
      "\n",
      "Título: El gran libro de Python\n",
      "Autor: John Doe\n"
     ]
    }
   ],
   "source": [
    "libro = \"\"\"\n",
    "Título: El gran libro de Python\n",
    "Autor: John Doe\"\"\"\n",
    "\n",
    "print(libro)"
   ]
  },
  {
   "cell_type": "markdown",
   "id": "1a516086",
   "metadata": {},
   "source": [
    "Documentación: https://docs.python.org/3/library/functions.html"
   ]
  }
 ],
 "metadata": {
  "kernelspec": {
   "display_name": "data_academy",
   "language": "python",
   "name": "python3"
  },
  "language_info": {
   "codemirror_mode": {
    "name": "ipython",
    "version": 3
   },
   "file_extension": ".py",
   "mimetype": "text/x-python",
   "name": "python",
   "nbconvert_exporter": "python",
   "pygments_lexer": "ipython3",
   "version": "3.9.13"
  }
 },
 "nbformat": 4,
 "nbformat_minor": 5
}
