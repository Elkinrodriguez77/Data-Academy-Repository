{
 "cells": [
  {
   "cell_type": "markdown",
   "id": "6904f8df",
   "metadata": {},
   "source": [
    "# Exploración de ventas de Black Friday"
   ]
  },
  {
   "cell_type": "markdown",
   "id": "9de99c9e",
   "metadata": {},
   "source": [
    "Enlace Data Set: https://www.kaggle.com/datasets/rajeshrampure/black-friday-sale"
   ]
  },
  {
   "cell_type": "markdown",
   "id": "300c32e6",
   "metadata": {},
   "source": [
    "## 1. Primero vamos a crear un DataFrame con Pandas y cargar el archivo"
   ]
  },
  {
   "cell_type": "code",
   "execution_count": null,
   "id": "9a0d8e06",
   "metadata": {},
   "outputs": [],
   "source": []
  },
  {
   "cell_type": "markdown",
   "id": "14de773b",
   "metadata": {},
   "source": [
    "https://pandas.pydata.org/docs/user_guide/10min.html"
   ]
  },
  {
   "cell_type": "code",
   "execution_count": null,
   "id": "b91fc8d4",
   "metadata": {},
   "outputs": [],
   "source": []
  },
  {
   "cell_type": "markdown",
   "id": "c7dc89de",
   "metadata": {},
   "source": [
    "# 2. Explorando Datos"
   ]
  },
  {
   "cell_type": "markdown",
   "id": "a5361cb2",
   "metadata": {},
   "source": [
    "## Exploración Básica"
   ]
  },
  {
   "cell_type": "markdown",
   "id": "4993f54b",
   "metadata": {},
   "source": [
    "Leer las primeras filas:"
   ]
  },
  {
   "cell_type": "code",
   "execution_count": null,
   "id": "7a42782e",
   "metadata": {},
   "outputs": [],
   "source": []
  },
  {
   "cell_type": "markdown",
   "id": "3e113b57",
   "metadata": {},
   "source": [
    "Información general del data set:"
   ]
  },
  {
   "cell_type": "code",
   "execution_count": null,
   "id": "761359de",
   "metadata": {},
   "outputs": [],
   "source": []
  },
  {
   "cell_type": "markdown",
   "id": "67c23c9e",
   "metadata": {},
   "source": [
    "Dimensiones del dataset:"
   ]
  },
  {
   "cell_type": "code",
   "execution_count": null,
   "id": "c6556f5b",
   "metadata": {},
   "outputs": [],
   "source": []
  },
  {
   "cell_type": "markdown",
   "id": "6b98d9ce",
   "metadata": {},
   "source": [
    "Impresión de resultados concatenados:"
   ]
  },
  {
   "cell_type": "code",
   "execution_count": null,
   "id": "21d8851b",
   "metadata": {},
   "outputs": [],
   "source": []
  },
  {
   "cell_type": "markdown",
   "id": "0846b71e",
   "metadata": {},
   "source": [
    "Saltos de linea:"
   ]
  },
  {
   "cell_type": "code",
   "execution_count": null,
   "id": "2a5d339e",
   "metadata": {},
   "outputs": [],
   "source": []
  },
  {
   "cell_type": "markdown",
   "id": "7600c238",
   "metadata": {},
   "source": [
    "Dar formato a numeros y usar describe(): "
   ]
  },
  {
   "cell_type": "code",
   "execution_count": null,
   "id": "ad2b7f7b",
   "metadata": {},
   "outputs": [],
   "source": []
  },
  {
   "cell_type": "markdown",
   "id": "8d98e3c9",
   "metadata": {},
   "source": [
    "## 4. Análisis Exploratorio"
   ]
  },
  {
   "cell_type": "markdown",
   "id": "bdc7ff4d",
   "metadata": {},
   "source": [
    "Conteo de registros:"
   ]
  },
  {
   "cell_type": "code",
   "execution_count": null,
   "id": "cf85b251",
   "metadata": {},
   "outputs": [],
   "source": []
  },
  {
   "cell_type": "markdown",
   "id": "c158a0ac",
   "metadata": {},
   "source": [
    "Conteo de filas únicas:"
   ]
  },
  {
   "cell_type": "code",
   "execution_count": null,
   "id": "2c455c48",
   "metadata": {},
   "outputs": [],
   "source": []
  },
  {
   "cell_type": "markdown",
   "id": "72917562",
   "metadata": {},
   "source": [
    "### Agrupar resultados"
   ]
  },
  {
   "cell_type": "code",
   "execution_count": null,
   "id": "289ee537",
   "metadata": {},
   "outputs": [],
   "source": []
  },
  {
   "cell_type": "code",
   "execution_count": null,
   "id": "fcf92080",
   "metadata": {},
   "outputs": [],
   "source": []
  },
  {
   "cell_type": "markdown",
   "id": "4d1e28fa",
   "metadata": {},
   "source": [
    "### Correlación entre variables:"
   ]
  },
  {
   "cell_type": "code",
   "execution_count": null,
   "id": "6cef0c29",
   "metadata": {},
   "outputs": [],
   "source": []
  },
  {
   "cell_type": "markdown",
   "id": "20c7b72e",
   "metadata": {},
   "source": [
    "# Documentación"
   ]
  },
  {
   "cell_type": "markdown",
   "id": "2961c82a",
   "metadata": {},
   "source": [
    "Lista de funciones y clases de pandas:"
   ]
  },
  {
   "cell_type": "code",
   "execution_count": null,
   "id": "c197debb",
   "metadata": {},
   "outputs": [],
   "source": []
  },
  {
   "cell_type": "markdown",
   "id": "89006430",
   "metadata": {},
   "source": [
    "Lista métodos y atributos del DataFrame:"
   ]
  },
  {
   "cell_type": "code",
   "execution_count": null,
   "id": "1e8ca8ac",
   "metadata": {},
   "outputs": [],
   "source": []
  },
  {
   "cell_type": "code",
   "execution_count": null,
   "id": "6d82aa25",
   "metadata": {},
   "outputs": [],
   "source": []
  },
  {
   "cell_type": "markdown",
   "id": "104d5632",
   "metadata": {},
   "source": [
    "# Visualización de Datos"
   ]
  },
  {
   "cell_type": "code",
   "execution_count": null,
   "id": "3be2df1c",
   "metadata": {},
   "outputs": [],
   "source": []
  },
  {
   "cell_type": "markdown",
   "id": "dea2acce",
   "metadata": {},
   "source": [
    "## Histograma"
   ]
  },
  {
   "cell_type": "markdown",
   "id": "80e0cddc",
   "metadata": {},
   "source": [
    "https://matplotlib.org/stable/users/explain/quick_start.html"
   ]
  },
  {
   "cell_type": "code",
   "execution_count": null,
   "id": "11a3462f",
   "metadata": {},
   "outputs": [],
   "source": []
  },
  {
   "cell_type": "markdown",
   "id": "9138556d",
   "metadata": {},
   "source": [
    "## Boxplot"
   ]
  },
  {
   "cell_type": "code",
   "execution_count": null,
   "id": "bb26a762",
   "metadata": {},
   "outputs": [],
   "source": []
  },
  {
   "cell_type": "code",
   "execution_count": null,
   "id": "8a0f568d",
   "metadata": {},
   "outputs": [],
   "source": []
  }
 ],
 "metadata": {
  "kernelspec": {
   "display_name": "data_academy",
   "language": "python",
   "name": "python3"
  },
  "language_info": {
   "codemirror_mode": {
    "name": "ipython",
    "version": 3
   },
   "file_extension": ".py",
   "mimetype": "text/x-python",
   "name": "python",
   "nbconvert_exporter": "python",
   "pygments_lexer": "ipython3",
   "version": "3.9.13"
  }
 },
 "nbformat": 4,
 "nbformat_minor": 5
}
